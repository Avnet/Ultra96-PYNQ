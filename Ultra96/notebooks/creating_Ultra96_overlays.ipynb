{
 "cells": [
  {
   "cell_type": "markdown",
   "id": "c8682abb",
   "metadata": {},
   "source": [
    "# Template available to start your own Vivado PL hardware designs"
   ]
  },
  {
   "cell_type": "markdown",
   "id": "63a33cb1",
   "metadata": {},
   "source": [
    "Included in the release is an Overlay named sensors96b. \n",
    "The Vivado design as well as supporting makefiles can be found here:\n",
    "https://github.com/Avnet/Ultra96-PYNQ/tree/master/Ultra96/sensors96b"
   ]
  },
  {
   "cell_type": "code",
   "execution_count": 3,
   "id": "2c0b6066",
   "metadata": {},
   "outputs": [],
   "source": [
    "# Example of loading the built-in Overlay\n",
    "from pynq import PL\n",
    "from pynq import Overlay\n",
    "ol = Overlay('sensors96b.bit')"
   ]
  },
  {
   "cell_type": "code",
   "execution_count": 4,
   "id": "297ac5cc",
   "metadata": {},
   "outputs": [],
   "source": [
    "# The Overlay is very simple and contains 2 UARTs in the PL design\n",
    "ol?"
   ]
  },
  {
   "cell_type": "markdown",
   "id": "02d49b15",
   "metadata": {
    "slideshow": {
     "slide_type": "slide"
    }
   },
   "source": [
    "### If you would like to use this as a starting point for your own custom Vivado PL design:"
   ]
  },
  {
   "cell_type": "markdown",
   "id": "f00c9192",
   "metadata": {},
   "source": [
    "The included Vivado project contains all of the appropriate baseline settings for the PS as well as constraints and some I/O pin labels."
   ]
  },
  {
   "cell_type": "markdown",
   "id": "ecae1b62",
   "metadata": {
    "slideshow": {
     "slide_type": "slide"
    }
   },
   "source": [
    "To rebuild the included design you must install the appropriate version of Vivado (see https://github.com/Avnet/Ultra96-PYNQ/blob/master/README.md) and some Linux build tools such as make.  Installing PetaLinux or Vitis is not required, only Vivado."
   ]
  },
  {
   "cell_type": "markdown",
   "id": "c5985f00",
   "metadata": {},
   "source": [
    "Clone the repo and cd into the appropriate folder:\n",
    "```\n",
    "git clone https://github.com/Avnet/Ultra96-PYNQ\n",
    "cd Ultra96-PYNQ/Ultra96/sensors96b\n",
    "```"
   ]
  },
  {
   "cell_type": "markdown",
   "id": "661c32c2",
   "metadata": {},
   "source": [
    "The design supports both Ultra96 v1 and v2.  The DDR memory is different between the versions so a unique hardware design is required for each.\n",
    "You will need to create a soft symbolic link to choose the version of Ultra96:\n",
    "\n",
    "Ultra96 Version 1:\n",
    "```\n",
    "ln -fs ./sensors96b.tcl.v1 sensors96b.tcl\n",
    "```\n",
    "Ultra96 Version 2:\n",
    "```\n",
    "ln -fs ./sensors96b.tcl.v2 sensors96b.tcl\n",
    "```"
   ]
  },
  {
   "cell_type": "markdown",
   "id": "7001be32",
   "metadata": {},
   "source": [
    "After setting the appropriate link, next simply type and enter:\n",
    "```\n",
    "make\n",
    "```"
   ]
  },
  {
   "cell_type": "markdown",
   "id": "660f0093",
   "metadata": {},
   "source": [
    "After the build finishs a Vivado project will exist, as well as the bitstream, xsa and hwh files."
   ]
  },
  {
   "cell_type": "markdown",
   "id": "a54f919a",
   "metadata": {},
   "source": [
    "#### Additional tips:"
   ]
  },
  {
   "cell_type": "markdown",
   "id": "bd5386b5",
   "metadata": {},
   "source": [
    "You may copy any of these files to your own location to reuse.  Or after looking at the makefile and Vivado project you may understand what is required and construct your own project from scratch."
   ]
  },
  {
   "cell_type": "markdown",
   "id": "3bc9ad74",
   "metadata": {},
   "source": [
    "Another approach would be to open up the newly created design in Vivado and then delete unused portions and insert your own IP.  After the design is finished you could export the Block Design tcl and then replace the appropriate sections of *sensors96b.tcl.v1* or *sensors96b.tcl.v2*."
   ]
  }
 ],
 "metadata": {
  "kernelspec": {
   "display_name": "Python 3 (ipykernel)",
   "language": "python",
   "name": "python3"
  },
  "language_info": {
   "codemirror_mode": {
    "name": "ipython",
    "version": 3
   },
   "file_extension": ".py",
   "mimetype": "text/x-python",
   "name": "python",
   "nbconvert_exporter": "python",
   "pygments_lexer": "ipython3",
   "version": "3.10.4"
  }
 },
 "nbformat": 4,
 "nbformat_minor": 5
}
