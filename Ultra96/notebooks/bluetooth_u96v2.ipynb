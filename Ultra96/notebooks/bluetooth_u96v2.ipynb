{
 "cells": [
  {
   "cell_type": "markdown",
   "metadata": {},
   "source": [
    "# Bluetooth Example (for Ultra96 VERSION 2 ONLY)\n",
    "---"
   ]
  },
  {
   "cell_type": "markdown",
   "metadata": {},
   "source": [
    "## Aim\n",
    "\n",
    "* This notebook shows how to enable the on-board Bluetooth chip and scan Bluetooth devices.\n",
    "\n",
    "## Revision History\n",
    "\n",
    "* Initial Release\n",
    "\n",
    "---"
   ]
  },
  {
   "cell_type": "markdown",
   "metadata": {},
   "source": [
    "## Turn ON the Bluetooth chip\n",
    "Use Linux commands to turn ON the Bluetooth device."
   ]
  },
  {
   "cell_type": "code",
   "execution_count": null,
   "metadata": {},
   "outputs": [],
   "source": [
    "!sudo  -- bash -c 'echo BT_SDIO_INIT > /dev/wilc_bt'\n",
    "!sudo  -- bash -c 'echo BT_POWER_UP > /dev/wilc_bt'\n",
    "!sudo  -- bash -c 'echo BT_FW_CHIP_WAKEUP > /dev/wilc_bt'\n",
    "!sudo  -- bash -c 'echo BT_DOWNLOAD_FW > /dev/wilc_bt'\n",
    "!sudo  -- bash -c 'echo BT_FW_CHIP_ALLOW_SLEEP > /dev/wilc_bt'"
   ]
  },
  {
   "cell_type": "markdown",
   "metadata": {},
   "source": [
    "### Configure the Bluetooth chip\n",
    "Configure the chip to talk to other Bluetooth devices using serial protocol, operating at 115200 baud and without any handshaking protocol."
   ]
  },
  {
   "cell_type": "code",
   "execution_count": null,
   "metadata": {},
   "outputs": [],
   "source": [
    "!sudo -- bash -c 'hciattach /dev/ttyPS1 any 115200 noflow'"
   ]
  },
  {
   "cell_type": "markdown",
   "metadata": {},
   "source": [
    "### Turn on the _hci0_ device\n",
    "The SDCard image has the _hcitool_ package installed which can be used to scan Bluetooth devices. Turn ON the hci0 device service."
   ]
  },
  {
   "cell_type": "code",
   "execution_count": null,
   "metadata": {},
   "outputs": [],
   "source": [
    "!sudo -- bash -c 'hciconfig hci0 up'"
   ]
  },
  {
   "cell_type": "markdown",
   "metadata": {},
   "source": [
    "### Scan the devices\n",
    "As the Bluetooth chip is configured and the hci0 service is enabled, scan the devices.\n",
    "\n",
    "Click the _stop_ or _Terminate_ button to terminate the scanning"
   ]
  },
  {
   "cell_type": "code",
   "execution_count": null,
   "metadata": {},
   "outputs": [],
   "source": [
    "!sudo hcitool -i hci0 lescan"
   ]
  },
  {
   "cell_type": "markdown",
   "metadata": {},
   "source": [
    "At this stage you can install and use device dependent packages (e.g. for special IO device, or tethered iOS/Android device, ...)  and communicate with the desired device"
   ]
  },
  {
   "cell_type": "markdown",
   "metadata": {},
   "source": [
    "  "
   ]
  },
  {
   "cell_type": "code",
   "execution_count": null,
   "metadata": {},
   "outputs": [],
   "source": []
  }
 ],
 "metadata": {
  "kernelspec": {
   "display_name": "Python 3 (ipykernel)",
   "language": "python",
   "name": "python3"
  },
  "language_info": {
   "codemirror_mode": {
    "name": "ipython",
    "version": 3
   },
   "file_extension": ".py",
   "mimetype": "text/x-python",
   "name": "python",
   "nbconvert_exporter": "python",
   "pygments_lexer": "ipython3",
   "version": "3.10.4"
  }
 },
 "nbformat": 4,
 "nbformat_minor": 4
}
