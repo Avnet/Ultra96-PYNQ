{
 "cells": [
  {
   "cell_type": "markdown",
   "metadata": {},
   "source": [
    "# PMBus on the Ultra96\n",
    "\n",
    "The Ultra96 has some support for monitoring power rails on the board using PMBus. PYNQ exposes these rails through the get_rails function that returns a dictionary of all of the rails available to be monitored."
   ]
  },
  {
   "cell_type": "code",
   "execution_count": 1,
   "metadata": {},
   "outputs": [
    {
     "data": {
      "application/javascript": [
       "\n",
       "try {\n",
       "require(['notebook/js/codecell'], function(codecell) {\n",
       "  codecell.CodeCell.options_default.highlight_modes[\n",
       "      'magic_text/x-csrc'] = {'reg':[/^%%microblaze/]};\n",
       "  Jupyter.notebook.events.one('kernel_ready.Kernel', function(){\n",
       "      Jupyter.notebook.get_cells().map(function(cell){\n",
       "          if (cell.cell_type == 'code'){ cell.auto_highlight(); } }) ;\n",
       "  });\n",
       "});\n",
       "} catch (e) {};\n"
      ]
     },
     "metadata": {},
     "output_type": "display_data"
    },
    {
     "data": {
      "application/javascript": [
       "\n",
       "try {\n",
       "require(['notebook/js/codecell'], function(codecell) {\n",
       "  codecell.CodeCell.options_default.highlight_modes[\n",
       "      'magic_text/x-csrc'] = {'reg':[/^%%pybind11/]};\n",
       "  Jupyter.notebook.events.one('kernel_ready.Kernel', function(){\n",
       "      Jupyter.notebook.get_cells().map(function(cell){\n",
       "          if (cell.cell_type == 'code'){ cell.auto_highlight(); } }) ;\n",
       "  });\n",
       "});\n",
       "} catch (e) {};\n"
      ]
     },
     "metadata": {},
     "output_type": "display_data"
    },
    {
     "data": {
      "text/plain": [
       "{'1V2': Rail {name=1V2, voltage=Sensor {name=1V2_voltage, value=1.199V}, current=Sensor {name=1V2_current, value=0.312A}, power=Sensor {name=1V2_power, value=0.375W}},\n",
       " '3V3': Rail {name=3V3, voltage=Sensor {name=3V3_voltage, value=3.304V}, current=Sensor {name=3V3_current, value=0.203A}, power=Sensor {name=3V3_power, value=0.65625W}},\n",
       " '3V3_D': Rail {name=3V3_D, voltage=Sensor {name=3V3_D_voltage, value=3.304V}, current=Sensor {name=3V3_D_current, value=0.0A}, power=Sensor {name=3V3_D_power, value=0.0W}},\n",
       " 'AUX': Rail {name=AUX, voltage=Sensor {name=AUX_voltage, value=1.796V}, current=Sensor {name=AUX_current, value=0.062A}, power=Sensor {name=AUX_power, value=0.09375W}},\n",
       " 'INT': Rail {name=INT, voltage=Sensor {name=INT_voltage, value=0.847V}, current=Sensor {name=INT_current, value=0.187A}, power=Sensor {name=INT_power, value=0.15625W}},\n",
       " 'PSAUX': Rail {name=PSAUX, voltage=Sensor {name=PSAUX_voltage, value=1.8V}, current=Sensor {name=PSAUX_current, value=0.156A}, power=Sensor {name=PSAUX_power, value=0.28125W}},\n",
       " 'PSDDR': Rail {name=PSDDR, voltage=Sensor {name=PSDDR_voltage, value=1.097V}, current=Sensor {name=PSDDR_current, value=0.109A}, power=Sensor {name=PSDDR_power, value=0.125W}},\n",
       " 'PSINT_FP': Rail {name=PSINT_FP, voltage=Sensor {name=PSINT_FP_voltage, value=0.843V}, current=Sensor {name=PSINT_FP_current, value=0.781A}, power=Sensor {name=PSINT_FP_power, value=0.65625W}},\n",
       " 'PSINT_LP': Rail {name=PSINT_LP, voltage=Sensor {name=PSINT_LP_voltage, value=0.847V}, current=Sensor {name=PSINT_LP_current, value=0.312A}, power=Sensor {name=PSINT_LP_power, value=0.25W}},\n",
       " 'PSPLL': Rail {name=PSPLL, voltage=Sensor {name=PSPLL_voltage, value=1.195V}, current=Sensor {name=PSPLL_current, value=0.035A}, power=Sensor {name=PSPLL_power, value=0.046875W}},\n",
       " 'in1': Rail {name=in1, voltage=Sensor {name=in1_voltage, value=1.193V}},\n",
       " 'in10': Rail {name=in10, voltage=Sensor {name=in10_voltage, value=1.798V}},\n",
       " 'in11': Rail {name=in11, voltage=Sensor {name=in11_voltage, value=1.099V}},\n",
       " 'in2': Rail {name=in2, voltage=Sensor {name=in2_voltage, value=1.801V}},\n",
       " 'in3': Rail {name=in3, voltage=Sensor {name=in3_voltage, value=0.845V}},\n",
       " 'in4': Rail {name=in4, voltage=Sensor {name=in4_voltage, value=0.846V}},\n",
       " 'in5': Rail {name=in5, voltage=Sensor {name=in5_voltage, value=1.798V}},\n",
       " 'in6': Rail {name=in6, voltage=Sensor {name=in6_voltage, value=1.798V}},\n",
       " 'in7': Rail {name=in7, voltage=Sensor {name=in7_voltage, value=0.84V}},\n",
       " 'in8': Rail {name=in8, voltage=Sensor {name=in8_voltage, value=0.84V}},\n",
       " 'in9': Rail {name=in9, voltage=Sensor {name=in9_voltage, value=0.837V}}}"
      ]
     },
     "execution_count": 1,
     "metadata": {},
     "output_type": "execute_result"
    }
   ],
   "source": [
    "import pynq\n",
    "\n",
    "rails = pynq.get_rails()\n",
    "rails"
   ]
  },
  {
   "cell_type": "markdown",
   "metadata": {},
   "source": [
    "Depending on whether you are using Ultra96 v1 or v2, you may see a different set of rails.\n",
    "\n",
    "As can be seen, the keys of the dictionary are the names of the voltage rails while the values are `Rail` objects which contain three sensors for the voltage, current and power.\n",
    "\n",
    "To see how power changes under CPU load we can use the `DataRecorder` class. \n",
    "For this example we are going to look at a specific power rail (depending on v1 or v2)\n",
    "as we load one of the CPU cores in Python."
   ]
  },
  {
   "cell_type": "code",
   "execution_count": 2,
   "metadata": {},
   "outputs": [
    {
     "name": "stdout",
     "output_type": "stream",
     "text": [
      "Recording Ultra96 v2 power...\n"
     ]
    }
   ],
   "source": [
    "if 'VSYS' in rails.keys():\n",
    "    print(\"Recording Ultra96 v1 power...\")\n",
    "    rail_name = 'VSYS'\n",
    "elif 'PSINT_FP' in rails.keys():\n",
    "    print(\"Recording Ultra96 v2 power...\")\n",
    "    rail_name = 'PSINT_FP'\n",
    "else:\n",
    "    raise RuntimeError(\"Cannot determine Ultra96 board version.\")\n",
    "recorder = pynq.DataRecorder(rails[rail_name].power)"
   ]
  },
  {
   "cell_type": "markdown",
   "metadata": {},
   "source": [
    "We can now use the recorder to monitor the applied sensor. For this example we'll sample the power every half second while sleeping and performing a dummy loop."
   ]
  },
  {
   "cell_type": "code",
   "execution_count": 3,
   "metadata": {},
   "outputs": [],
   "source": [
    "import time\n",
    "with recorder.record(0.5):\n",
    "    time.sleep(5)\n",
    "    for _ in range(10000000):\n",
    "        pass\n",
    "    time.sleep(5)"
   ]
  },
  {
   "cell_type": "markdown",
   "metadata": {},
   "source": [
    "The `DataRecorder` exposes the sensor data as a pandas dataframe."
   ]
  },
  {
   "cell_type": "code",
   "execution_count": 4,
   "metadata": {},
   "outputs": [
    {
     "data": {
      "text/html": [
       "<div>\n",
       "<style scoped>\n",
       "    .dataframe tbody tr th:only-of-type {\n",
       "        vertical-align: middle;\n",
       "    }\n",
       "\n",
       "    .dataframe tbody tr th {\n",
       "        vertical-align: top;\n",
       "    }\n",
       "\n",
       "    .dataframe thead th {\n",
       "        text-align: right;\n",
       "    }\n",
       "</style>\n",
       "<table border=\"1\" class=\"dataframe\">\n",
       "  <thead>\n",
       "    <tr style=\"text-align: right;\">\n",
       "      <th></th>\n",
       "      <th>Mark</th>\n",
       "      <th>PSINT_FP_power</th>\n",
       "    </tr>\n",
       "  </thead>\n",
       "  <tbody>\n",
       "    <tr>\n",
       "      <th>2020-10-01 05:25:20.561707</th>\n",
       "      <td>0.0</td>\n",
       "      <td>0.65625</td>\n",
       "    </tr>\n",
       "    <tr>\n",
       "      <th>2020-10-01 05:25:21.083102</th>\n",
       "      <td>0.0</td>\n",
       "      <td>0.65625</td>\n",
       "    </tr>\n",
       "    <tr>\n",
       "      <th>2020-10-01 05:25:21.662734</th>\n",
       "      <td>0.0</td>\n",
       "      <td>0.65625</td>\n",
       "    </tr>\n",
       "    <tr>\n",
       "      <th>2020-10-01 05:25:22.175024</th>\n",
       "      <td>0.0</td>\n",
       "      <td>0.65625</td>\n",
       "    </tr>\n",
       "    <tr>\n",
       "      <th>2020-10-01 05:25:22.754237</th>\n",
       "      <td>0.0</td>\n",
       "      <td>0.65625</td>\n",
       "    </tr>\n",
       "    <tr>\n",
       "      <th>2020-10-01 05:25:23.266383</th>\n",
       "      <td>0.0</td>\n",
       "      <td>0.65625</td>\n",
       "    </tr>\n",
       "    <tr>\n",
       "      <th>2020-10-01 05:25:23.845980</th>\n",
       "      <td>0.0</td>\n",
       "      <td>0.65625</td>\n",
       "    </tr>\n",
       "    <tr>\n",
       "      <th>2020-10-01 05:25:24.357726</th>\n",
       "      <td>0.0</td>\n",
       "      <td>0.65625</td>\n",
       "    </tr>\n",
       "    <tr>\n",
       "      <th>2020-10-01 05:25:24.936737</th>\n",
       "      <td>0.0</td>\n",
       "      <td>0.65625</td>\n",
       "    </tr>\n",
       "    <tr>\n",
       "      <th>2020-10-01 05:25:25.448643</th>\n",
       "      <td>0.0</td>\n",
       "      <td>0.65625</td>\n",
       "    </tr>\n",
       "    <tr>\n",
       "      <th>2020-10-01 05:25:26.039261</th>\n",
       "      <td>0.0</td>\n",
       "      <td>0.81250</td>\n",
       "    </tr>\n",
       "    <tr>\n",
       "      <th>2020-10-01 05:25:26.571881</th>\n",
       "      <td>0.0</td>\n",
       "      <td>0.81250</td>\n",
       "    </tr>\n",
       "    <tr>\n",
       "      <th>2020-10-01 05:25:27.172193</th>\n",
       "      <td>0.0</td>\n",
       "      <td>0.81250</td>\n",
       "    </tr>\n",
       "    <tr>\n",
       "      <th>2020-10-01 05:25:27.699667</th>\n",
       "      <td>0.0</td>\n",
       "      <td>0.81250</td>\n",
       "    </tr>\n",
       "    <tr>\n",
       "      <th>2020-10-01 05:25:28.299459</th>\n",
       "      <td>0.0</td>\n",
       "      <td>0.81250</td>\n",
       "    </tr>\n",
       "    <tr>\n",
       "      <th>2020-10-01 05:25:28.837331</th>\n",
       "      <td>0.0</td>\n",
       "      <td>0.81250</td>\n",
       "    </tr>\n",
       "    <tr>\n",
       "      <th>2020-10-01 05:25:29.432427</th>\n",
       "      <td>0.0</td>\n",
       "      <td>0.65625</td>\n",
       "    </tr>\n",
       "    <tr>\n",
       "      <th>2020-10-01 05:25:29.944192</th>\n",
       "      <td>0.0</td>\n",
       "      <td>0.65625</td>\n",
       "    </tr>\n",
       "    <tr>\n",
       "      <th>2020-10-01 05:25:30.523432</th>\n",
       "      <td>0.0</td>\n",
       "      <td>0.65625</td>\n",
       "    </tr>\n",
       "    <tr>\n",
       "      <th>2020-10-01 05:25:31.035266</th>\n",
       "      <td>0.0</td>\n",
       "      <td>0.65625</td>\n",
       "    </tr>\n",
       "    <tr>\n",
       "      <th>2020-10-01 05:25:31.615021</th>\n",
       "      <td>0.0</td>\n",
       "      <td>0.65625</td>\n",
       "    </tr>\n",
       "    <tr>\n",
       "      <th>2020-10-01 05:25:32.128025</th>\n",
       "      <td>0.0</td>\n",
       "      <td>0.65625</td>\n",
       "    </tr>\n",
       "    <tr>\n",
       "      <th>2020-10-01 05:25:32.708938</th>\n",
       "      <td>0.0</td>\n",
       "      <td>0.65625</td>\n",
       "    </tr>\n",
       "    <tr>\n",
       "      <th>2020-10-01 05:25:33.221021</th>\n",
       "      <td>0.0</td>\n",
       "      <td>0.65625</td>\n",
       "    </tr>\n",
       "    <tr>\n",
       "      <th>2020-10-01 05:25:33.800152</th>\n",
       "      <td>0.0</td>\n",
       "      <td>0.65625</td>\n",
       "    </tr>\n",
       "  </tbody>\n",
       "</table>\n",
       "</div>"
      ],
      "text/plain": [
       "                            Mark  PSINT_FP_power\n",
       "2020-10-01 05:25:20.561707   0.0         0.65625\n",
       "2020-10-01 05:25:21.083102   0.0         0.65625\n",
       "2020-10-01 05:25:21.662734   0.0         0.65625\n",
       "2020-10-01 05:25:22.175024   0.0         0.65625\n",
       "2020-10-01 05:25:22.754237   0.0         0.65625\n",
       "2020-10-01 05:25:23.266383   0.0         0.65625\n",
       "2020-10-01 05:25:23.845980   0.0         0.65625\n",
       "2020-10-01 05:25:24.357726   0.0         0.65625\n",
       "2020-10-01 05:25:24.936737   0.0         0.65625\n",
       "2020-10-01 05:25:25.448643   0.0         0.65625\n",
       "2020-10-01 05:25:26.039261   0.0         0.81250\n",
       "2020-10-01 05:25:26.571881   0.0         0.81250\n",
       "2020-10-01 05:25:27.172193   0.0         0.81250\n",
       "2020-10-01 05:25:27.699667   0.0         0.81250\n",
       "2020-10-01 05:25:28.299459   0.0         0.81250\n",
       "2020-10-01 05:25:28.837331   0.0         0.81250\n",
       "2020-10-01 05:25:29.432427   0.0         0.65625\n",
       "2020-10-01 05:25:29.944192   0.0         0.65625\n",
       "2020-10-01 05:25:30.523432   0.0         0.65625\n",
       "2020-10-01 05:25:31.035266   0.0         0.65625\n",
       "2020-10-01 05:25:31.615021   0.0         0.65625\n",
       "2020-10-01 05:25:32.128025   0.0         0.65625\n",
       "2020-10-01 05:25:32.708938   0.0         0.65625\n",
       "2020-10-01 05:25:33.221021   0.0         0.65625\n",
       "2020-10-01 05:25:33.800152   0.0         0.65625"
      ]
     },
     "execution_count": 4,
     "metadata": {},
     "output_type": "execute_result"
    }
   ],
   "source": [
    "recorder.frame"
   ]
  },
  {
   "cell_type": "markdown",
   "metadata": {},
   "source": [
    "Or by plotting the results using matplotlib."
   ]
  },
  {
   "cell_type": "code",
   "execution_count": 5,
   "metadata": {},
   "outputs": [
    {
     "data": {
      "text/plain": [
       "<matplotlib.axes._subplots.AxesSubplot at 0x7f7cdbc1d0>"
      ]
     },
     "execution_count": 5,
     "metadata": {},
     "output_type": "execute_result"
    },
    {
     "data": {
      "image/png": "[encoded data removed]",
      "text/plain": [
       "<matplotlib.figure.Figure at 0x7f7cfd45f8>"
      ]
     },
     "metadata": {},
     "output_type": "display_data"
    }
   ],
   "source": [
    "%matplotlib inline\n",
    "recorder.frame['{}_power'.format(rail_name)].plot()"
   ]
  },
  {
   "cell_type": "markdown",
   "metadata": {},
   "source": [
    "We can get more information by using the `mark` function which will increment the invocation number without having to stop and start the recorder."
   ]
  },
  {
   "cell_type": "code",
   "execution_count": 6,
   "metadata": {},
   "outputs": [
    {
     "data": {
      "text/plain": [
       "array([<matplotlib.axes._subplots.AxesSubplot object at 0x7f7d96fef0>,\n",
       "       <matplotlib.axes._subplots.AxesSubplot object at 0x7f7cccbdd8>],\n",
       "      dtype=object)"
      ]
     },
     "execution_count": 6,
     "metadata": {},
     "output_type": "execute_result"
    },
    {
     "data": {
      "image/png": "[encoded data removed]",
      "text/plain": [
       "<matplotlib.figure.Figure at 0x7f7cf90198>"
      ]
     },
     "metadata": {},
     "output_type": "display_data"
    }
   ],
   "source": [
    "recorder.reset()\n",
    "with recorder.record(0.5):\n",
    "    time.sleep(5)\n",
    "    recorder.mark()\n",
    "    for _ in range(10000000):\n",
    "        pass\n",
    "    recorder.mark()\n",
    "    time.sleep(5)\n",
    "    \n",
    "recorder.frame.plot(subplots=True)"
   ]
  },
  {
   "cell_type": "markdown",
   "metadata": {},
   "source": [
    "This clearly shows the power spike when the for loop starts running."
   ]
  }
 ],
 "metadata": {
  "kernelspec": {
   "display_name": "Python 3",
   "language": "python",
   "name": "python3"
  },
  "language_info": {
   "codemirror_mode": {
    "name": "ipython",
    "version": 3
   },
   "file_extension": ".py",
   "mimetype": "text/x-python",
   "name": "python",
   "nbconvert_exporter": "python",
   "pygments_lexer": "ipython3",
   "version": "3.6.5"
  }
 },
 "nbformat": 4,
 "nbformat_minor": 2
}
