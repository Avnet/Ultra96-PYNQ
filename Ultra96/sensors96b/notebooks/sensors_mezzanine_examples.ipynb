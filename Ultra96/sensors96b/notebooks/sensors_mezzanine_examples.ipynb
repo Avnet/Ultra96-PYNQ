{
 "cells": [
  {
   "cell_type": "markdown",
   "metadata": {},
   "source": [
    "# Sensors Mezzanine Card Examples\n",
    "\n",
    "In this notebook we demonstrate several useful features of the [Sensors Mezzanine adapter](https://www.96boards.org/product/sensors-mezzanine/). In all of these examples, Grove peripherals are read and written through Digital GPIO pins connected to the PS or PL. In addition, all of the examples use Intel UPM drivers.\n",
    "\n",
    "In addition to the Sensors Mezzanine card, you will need the following modules shown from top to bottom in the photo below: Grove LCD RGB Backlight  Module (Connected to I2C0), Grove Button Module (GPIO E/F), Grove Relay Module (GPIO G/H), Grove Buzzer Module (GPIO I/J), and Grove LED Socket Module (GPIO K/L). \n",
    "\n",
    "![](./images/sensors_mezzanine_examples.png)\n",
    "\n",
    "\n",
    "These modules should be available in the [Grove Starter Kit for 96 boards](https://www.seeedstudio.com/Grove-Starter-Kit-for-96Boards-p-2618.html). More information about the drivers available in UPM can be found on the [Intel website](https://iotdk.intel.com/docs/master/upm/python/).\n",
    "\n",
    "\n",
    "To start, we will load the sensors96b overlay. This overlay connects all PL-connected GPIOs to the PS. "
   ]
  },
  {
   "cell_type": "code",
   "execution_count": 1,
   "metadata": {
    "collapsed": true
   },
   "outputs": [],
   "source": [
    "from pynq.overlays.sensors96b import Sensors96bOverlay\n",
    "\n",
    "overlay = Sensors96bOverlay('sensors96b.bit')"
   ]
  },
  {
   "cell_type": "markdown",
   "metadata": {},
   "source": [
    "## Grove LCD RGB Backlight Module\n",
    "\n",
    "Now that the overlay has been loaded, we can start talking to grove peripherals. We will first communicate with the Grove LCD RGB Backlight. \n",
    "\n",
    "The Grove LCD RGB Backlight is based on a JHD1313M1 I2C Controller. The driver is available through the `pyupm_jhd1313m1` module. We can initialize the driver by calling `lcd.Jhd1313m1()` with the I2C bus (0), the LCD cursor address (0x3E), and the RGB controller address (0x62)."
   ]
  },
  {
   "cell_type": "code",
   "execution_count": 2,
   "metadata": {
    "collapsed": true
   },
   "outputs": [],
   "source": [
    "from upm import pyupm_jhd1313m1 as lcd\n",
    "myLcd = lcd.Jhd1313m1(0, 0x3E, 0x62)"
   ]
  },
  {
   "cell_type": "markdown",
   "metadata": {},
   "source": [
    "The lines above should turn the the backlight to white.\n",
    "\n",
    "Next, we write text to the display and change the backlight color to blue"
   ]
  },
  {
   "cell_type": "code",
   "execution_count": 3,
   "metadata": {
    "collapsed": true
   },
   "outputs": [],
   "source": [
    "_ = myLcd.setCursor(0,0)\n",
    "_ = myLcd.write('Hello World')\n",
    "_ = myLcd.setCursor(1,2)\n",
    "_ = myLcd.write('Hello World')\n",
    "\n",
    "_ = myLcd.setColor(53, 39, 249)"
   ]
  },
  {
   "cell_type": "markdown",
   "metadata": {},
   "source": [
    "This concludes the Grove LCD RGB Backlight example.\n",
    "\n",
    "\n",
    "In the next four examples we will be using GPIO-driven Grove Modules. The following command shows the mapping between alphabetical GPIO names and numerical GPIO indicies.\n",
    "\n",
    "GPIO-A through GPIO-D are not available through the 40-pin header.\n"
   ]
  },
  {
   "cell_type": "code",
   "execution_count": 4,
   "metadata": {},
   "outputs": [
    {
     "name": "stdout",
     "output_type": "stream",
     "text": [
      "23      GPIO-A: GPIO \r\n",
      "24      GPIO-B: GPIO \r\n",
      "25      GPIO-C: GPIO \r\n",
      "26      GPIO-D: GPIO \r\n",
      "27      GPIO-E: GPIO \r\n",
      "28      GPIO-F: GPIO \r\n",
      "29      GPIO-G: GPIO \r\n",
      "30      GPIO-H: GPIO \r\n",
      "31      GPIO-I: GPIO \r\n",
      "32      GPIO-J: GPIO \r\n",
      "33      GPIO-K: GPIO \r\n",
      "34      GPIO-L: GPIO \r\n"
     ]
    }
   ],
   "source": [
    "!mraa-gpio list"
   ]
  },
  {
   "cell_type": "markdown",
   "metadata": {},
   "source": [
    "## Grove Button Module\n",
    "\n",
    "We now demonstrate the use of the Grove Button Module. The button driver can also be used to read the touch sensor. \n",
    "\n",
    "In this example the Grove Button Module is connected to GPIO-E, with index 27. We read the button value 10 times, once every second, and print the value."
   ]
  },
  {
   "cell_type": "code",
   "execution_count": 5,
   "metadata": {},
   "outputs": [
    {
     "name": "stdout",
     "output_type": "stream",
     "text": [
      "Button is not pressed!\n",
      "Button is not pressed!\n",
      "Button is not pressed!\n",
      "Button is not pressed!\n",
      "Button is not pressed!\n",
      "Button is not pressed!\n",
      "Button is not pressed!\n",
      "Button is pressed!\n",
      "Button is not pressed!\n",
      "Button is pressed!\n"
     ]
    }
   ],
   "source": [
    "from pynq.overlays.sensors96b import Sensors96bOverlay\n",
    "from upm import pyupm_grove as grove\n",
    "import time\n",
    "\n",
    "overlay = Sensors96bOverlay('sensors96b.bit')\n",
    "\n",
    "button = grove.GroveButton(27)\n",
    "\n",
    "for i in range(10):\n",
    "    if button.value() == 1:\n",
    "        print(\"Button is pressed!\")\n",
    "    else:\n",
    "        print(\"Button is not pressed!\")\n",
    "    time.sleep(1)\n"
   ]
  },
  {
   "cell_type": "markdown",
   "metadata": {},
   "source": [
    "## Grove Relay Module\n",
    "\n",
    "We will now demonstrate the use of the Grove Relay Module. \n",
    "\n",
    "The Grove Relay Module is connected to GPIO-G, with index 29. \n",
    "\n",
    "In this example we will open and close the relay switch three times, waiting one second between each command. While the Grove Relay Module is not connected to anything, you should hear a faint clicking noise with each state change and see a message printed below."
   ]
  },
  {
   "cell_type": "code",
   "execution_count": 6,
   "metadata": {},
   "outputs": [
    {
     "name": "stdout",
     "output_type": "stream",
     "text": [
      "Relay Switch is on\n",
      "Relay Switch is off\n",
      "Relay Switch is on\n",
      "Relay Switch is off\n",
      "Relay Switch is on\n",
      "Relay Switch is off\n"
     ]
    }
   ],
   "source": [
    "from pynq.overlays.sensors96b import Sensors96bOverlay\n",
    "from upm import pyupm_grove as grove\n",
    "import time\n",
    "\n",
    "overlay = Sensors96bOverlay('sensors96b.bit')\n",
    "\n",
    "relay = grove.GroveRelay(29)\n",
    "\n",
    "for i in range (0,3):\n",
    "    relay.on()\n",
    "    if relay.isOn():\n",
    "        print(relay.name(), 'is on')\n",
    "    time.sleep(1)\n",
    "    relay.off()\n",
    "    if relay.isOff():\n",
    "        print(relay.name(), 'is off')\n",
    "    time.sleep(1)\n",
    "\n"
   ]
  },
  {
   "cell_type": "markdown",
   "metadata": {},
   "source": [
    "## Grove Buzzer Module\n",
    "\n",
    "We will now demonstrate the Grove Buzzer Module. \n",
    "\n",
    "The Grove Buzzer Module is attached to GPIO-I, with index 31.\n",
    "\n",
    "In this example we will play 7 beeps. "
   ]
  },
  {
   "cell_type": "code",
   "execution_count": 7,
   "metadata": {
    "collapsed": true
   },
   "outputs": [],
   "source": [
    "from pynq.overlays.sensors96b import Sensors96bOverlay\n",
    "from upm import pyupm_grovespeaker as upmGrovespeaker\n",
    "import time\n",
    "\n",
    "overlay = Sensors96bOverlay('sensors96b.bit')\n",
    "\n",
    "mySpeaker = upmGrovespeaker.GroveSpeaker(31)\n",
    "\n",
    "mySpeaker.playAll()\n"
   ]
  },
  {
   "cell_type": "markdown",
   "metadata": {},
   "source": [
    "## Grove LED Module\n",
    "\n",
    "We will now demonstrate the Grove LED Module. \n",
    "\n",
    "The Grove LED Module is attached to GPIO-K, with index 33.\n",
    "\n",
    "In this example we will turn the LED on and off 10 times, with one second for each state. \n"
   ]
  },
  {
   "cell_type": "code",
   "execution_count": 8,
   "metadata": {
    "collapsed": true
   },
   "outputs": [],
   "source": [
    "from pynq.overlays.sensors96b import Sensors96bOverlay\n",
    "from upm import pyupm_grove as grove\n",
    "import time\n",
    "\n",
    "overlay = Sensors96bOverlay('sensors96b.bit')\n",
    "\n",
    "led = grove.GroveLed(33)\n",
    "\n",
    "for i in range (0,10):\n",
    "    led.on()\n",
    "    time.sleep(1)\n",
    "    led.off()\n",
    "    time.sleep(1)\n"
   ]
  },
  {
   "cell_type": "code",
   "execution_count": null,
   "metadata": {
    "collapsed": true
   },
   "outputs": [],
   "source": []
  }
 ],
 "metadata": {
  "kernelspec": {
   "display_name": "Python 3",
   "language": "python",
   "name": "python3"
  },
  "language_info": {
   "codemirror_mode": {
    "name": "ipython",
    "version": 3
   },
   "file_extension": ".py",
   "mimetype": "text/x-python",
   "name": "python",
   "nbconvert_exporter": "python",
   "pygments_lexer": "ipython3",
   "version": "3.6.0"
  }
 },
 "nbformat": 4,
 "nbformat_minor": 2
}
